{
 "cells": [
  {
   "cell_type": "code",
   "execution_count": 1,
   "metadata": {
    "collapsed": true
   },
   "outputs": [],
   "source": [
    "from tilenet import *\n",
    "%load_ext autoreload\n",
    "%autoreload 2"
   ]
  },
  {
   "cell_type": "code",
   "execution_count": 2,
   "metadata": {},
   "outputs": [],
   "source": [
    "in_channels = 4\n",
    "z_dim = 512\n",
    "net = make_tilenet(in_channels, z_dim)"
   ]
  },
  {
   "cell_type": "markdown",
   "metadata": {
    "collapsed": true
   },
   "source": [
    "## Copy triplets"
   ]
  },
  {
   "cell_type": "code",
   "execution_count": 1,
   "metadata": {},
   "outputs": [],
   "source": [
    "import os"
   ]
  },
  {
   "cell_type": "code",
   "execution_count": 4,
   "metadata": {},
   "outputs": [],
   "source": [
    "in_dir = '../../pixel2vec/data/interim/naip_fresno/triplets50_100/'\n",
    "out_dir = '../data/triplets/'\n",
    "N = 10\n",
    "in_names = ['patch', 'neighbor', 'distant']"
   ]
  },
  {
   "cell_type": "code",
   "execution_count": 5,
   "metadata": {},
   "outputs": [
    {
     "name": "stdout",
     "output_type": "stream",
     "text": [
      "../../pixel2vec/data/interim/naip_fresno/triplets50_100/0patch.npy\n",
      "../../pixel2vec/data/interim/naip_fresno/triplets50_100/0neighbor.npy\n",
      "../../pixel2vec/data/interim/naip_fresno/triplets50_100/0distant.npy\n",
      "../../pixel2vec/data/interim/naip_fresno/triplets50_100/1patch.npy\n",
      "../../pixel2vec/data/interim/naip_fresno/triplets50_100/1neighbor.npy\n",
      "../../pixel2vec/data/interim/naip_fresno/triplets50_100/1distant.npy\n",
      "../../pixel2vec/data/interim/naip_fresno/triplets50_100/2patch.npy\n",
      "../../pixel2vec/data/interim/naip_fresno/triplets50_100/2neighbor.npy\n",
      "../../pixel2vec/data/interim/naip_fresno/triplets50_100/2distant.npy\n",
      "../../pixel2vec/data/interim/naip_fresno/triplets50_100/3patch.npy\n",
      "../../pixel2vec/data/interim/naip_fresno/triplets50_100/3neighbor.npy\n",
      "../../pixel2vec/data/interim/naip_fresno/triplets50_100/3distant.npy\n",
      "../../pixel2vec/data/interim/naip_fresno/triplets50_100/4patch.npy\n",
      "../../pixel2vec/data/interim/naip_fresno/triplets50_100/4neighbor.npy\n",
      "../../pixel2vec/data/interim/naip_fresno/triplets50_100/4distant.npy\n",
      "../../pixel2vec/data/interim/naip_fresno/triplets50_100/5patch.npy\n",
      "../../pixel2vec/data/interim/naip_fresno/triplets50_100/5neighbor.npy\n",
      "../../pixel2vec/data/interim/naip_fresno/triplets50_100/5distant.npy\n",
      "../../pixel2vec/data/interim/naip_fresno/triplets50_100/6patch.npy\n",
      "../../pixel2vec/data/interim/naip_fresno/triplets50_100/6neighbor.npy\n",
      "../../pixel2vec/data/interim/naip_fresno/triplets50_100/6distant.npy\n",
      "../../pixel2vec/data/interim/naip_fresno/triplets50_100/7patch.npy\n",
      "../../pixel2vec/data/interim/naip_fresno/triplets50_100/7neighbor.npy\n",
      "../../pixel2vec/data/interim/naip_fresno/triplets50_100/7distant.npy\n",
      "../../pixel2vec/data/interim/naip_fresno/triplets50_100/8patch.npy\n",
      "../../pixel2vec/data/interim/naip_fresno/triplets50_100/8neighbor.npy\n",
      "../../pixel2vec/data/interim/naip_fresno/triplets50_100/8distant.npy\n",
      "../../pixel2vec/data/interim/naip_fresno/triplets50_100/9patch.npy\n",
      "../../pixel2vec/data/interim/naip_fresno/triplets50_100/9neighbor.npy\n",
      "../../pixel2vec/data/interim/naip_fresno/triplets50_100/9distant.npy\n"
     ]
    }
   ],
   "source": [
    "for i in range(N):\n",
    "    for in_name in in_names:\n",
    "        in_fn = os.path.join(in_dir, '{}{}.npy'.format(i, in_name))\n",
    "        print(in_fn)"
   ]
  },
  {
   "cell_type": "code",
   "execution_count": null,
   "metadata": {
    "collapsed": true
   },
   "outputs": [],
   "source": []
  }
 ],
 "metadata": {
  "kernelspec": {
   "display_name": "Python 3",
   "language": "python",
   "name": "python3"
  },
  "language_info": {
   "codemirror_mode": {
    "name": "ipython",
    "version": 3
   },
   "file_extension": ".py",
   "mimetype": "text/x-python",
   "name": "python",
   "nbconvert_exporter": "python",
   "pygments_lexer": "ipython3",
   "version": "3.6.4"
  }
 },
 "nbformat": 4,
 "nbformat_minor": 2
}
