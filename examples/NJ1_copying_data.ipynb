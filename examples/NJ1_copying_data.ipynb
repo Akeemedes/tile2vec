{
 "cells": [
  {
   "cell_type": "markdown",
   "metadata": {
    "collapsed": true
   },
   "source": [
    "## Copy triplets"
   ]
  },
  {
   "cell_type": "code",
   "execution_count": 11,
   "metadata": {},
   "outputs": [],
   "source": [
    "import os\n",
    "import shutil\n",
    "from time import time"
   ]
  },
  {
   "cell_type": "code",
   "execution_count": 15,
   "metadata": {},
   "outputs": [],
   "source": [
    "in_dir = '../../pixel2vec/data/interim/naip_fresno/triplets50_100/'\n",
    "out_dir = '../data/triplets/'\n",
    "N = 100000\n",
    "print_every = N // 100\n",
    "in_names = ['patch', 'neighbor', 'distant']"
   ]
  },
  {
   "cell_type": "code",
   "execution_count": 16,
   "metadata": {
    "scrolled": true
   },
   "outputs": [
    {
     "name": "stdout",
     "output_type": "stream",
     "text": [
      "Copied 1000 triplets: 42.600s\n",
      "Copied 2000 triplets: 88.328s\n",
      "Copied 3000 triplets: 132.211s\n",
      "Copied 4000 triplets: 173.892s\n",
      "Copied 5000 triplets: 216.376s\n",
      "Copied 6000 triplets: 259.270s\n",
      "Copied 7000 triplets: 298.617s\n",
      "Copied 8000 triplets: 334.446s\n",
      "Copied 9000 triplets: 372.016s\n",
      "Copied 10000 triplets: 409.544s\n",
      "Copied 11000 triplets: 443.262s\n",
      "Copied 12000 triplets: 481.720s\n",
      "Copied 13000 triplets: 535.706s\n",
      "Copied 14000 triplets: 595.052s\n",
      "Copied 15000 triplets: 649.317s\n",
      "Copied 16000 triplets: 716.446s\n",
      "Copied 17000 triplets: 785.892s\n",
      "Copied 18000 triplets: 860.395s\n",
      "Copied 19000 triplets: 933.548s\n",
      "Copied 20000 triplets: 981.090s\n",
      "Copied 21000 triplets: 1026.808s\n",
      "Copied 22000 triplets: 1072.534s\n",
      "Copied 23000 triplets: 1118.380s\n",
      "Copied 24000 triplets: 1168.539s\n",
      "Copied 25000 triplets: 1214.856s\n",
      "Copied 26000 triplets: 1266.167s\n",
      "Copied 27000 triplets: 1318.196s\n",
      "Copied 28000 triplets: 1369.374s\n",
      "Copied 29000 triplets: 1438.996s\n",
      "Copied 30000 triplets: 1530.829s\n",
      "Copied 31000 triplets: 1622.415s\n",
      "Copied 32000 triplets: 1696.037s\n",
      "Copied 33000 triplets: 1755.935s\n",
      "Copied 34000 triplets: 1810.177s\n",
      "Copied 35000 triplets: 1862.034s\n",
      "Copied 36000 triplets: 1912.894s\n",
      "Copied 37000 triplets: 1962.403s\n",
      "Copied 38000 triplets: 2014.479s\n",
      "Copied 39000 triplets: 2062.728s\n",
      "Copied 40000 triplets: 2108.212s\n",
      "Copied 41000 triplets: 2152.272s\n",
      "Copied 42000 triplets: 2194.790s\n",
      "Copied 43000 triplets: 2245.279s\n",
      "Copied 44000 triplets: 2292.321s\n",
      "Copied 45000 triplets: 2339.408s\n",
      "Copied 46000 triplets: 2387.842s\n",
      "Copied 47000 triplets: 2435.817s\n",
      "Copied 48000 triplets: 2481.506s\n",
      "Copied 49000 triplets: 2528.158s\n",
      "Copied 50000 triplets: 2577.498s\n",
      "Copied 51000 triplets: 2625.906s\n",
      "Copied 52000 triplets: 2705.323s\n",
      "Copied 53000 triplets: 2760.769s\n",
      "Copied 54000 triplets: 2812.934s\n",
      "Copied 55000 triplets: 2859.248s\n",
      "Copied 56000 triplets: 2908.993s\n",
      "Copied 57000 triplets: 2958.333s\n",
      "Copied 58000 triplets: 3004.880s\n",
      "Copied 59000 triplets: 3052.849s\n",
      "Copied 60000 triplets: 3102.797s\n",
      "Copied 61000 triplets: 3152.522s\n",
      "Copied 62000 triplets: 3202.471s\n",
      "Copied 63000 triplets: 3251.185s\n",
      "Copied 64000 triplets: 3299.774s\n",
      "Copied 65000 triplets: 3349.401s\n",
      "Copied 66000 triplets: 3398.352s\n",
      "Copied 67000 triplets: 3448.592s\n",
      "Copied 68000 triplets: 3497.680s\n",
      "Copied 69000 triplets: 3544.463s\n",
      "Copied 70000 triplets: 3597.748s\n",
      "Copied 71000 triplets: 3650.033s\n",
      "Copied 72000 triplets: 3703.628s\n",
      "Copied 73000 triplets: 3753.919s\n",
      "Copied 74000 triplets: 3809.512s\n",
      "Copied 75000 triplets: 3863.907s\n",
      "Copied 76000 triplets: 3915.498s\n",
      "Copied 77000 triplets: 3969.360s\n",
      "Copied 78000 triplets: 4019.101s\n",
      "Copied 79000 triplets: 4070.232s\n",
      "Copied 80000 triplets: 4124.831s\n",
      "Copied 81000 triplets: 4180.952s\n",
      "Copied 82000 triplets: 4237.300s\n",
      "Copied 83000 triplets: 4293.716s\n",
      "Copied 84000 triplets: 4346.201s\n",
      "Copied 85000 triplets: 4403.530s\n",
      "Copied 86000 triplets: 4462.004s\n",
      "Copied 87000 triplets: 4521.015s\n",
      "Copied 88000 triplets: 4579.808s\n",
      "Copied 89000 triplets: 4637.734s\n",
      "Copied 90000 triplets: 4695.138s\n",
      "Copied 91000 triplets: 4757.057s\n",
      "Copied 92000 triplets: 4815.570s\n",
      "Copied 93000 triplets: 4868.460s\n",
      "Copied 94000 triplets: 4926.329s\n",
      "Copied 95000 triplets: 4983.139s\n",
      "Copied 96000 triplets: 5042.729s\n",
      "Copied 97000 triplets: 5110.532s\n",
      "Copied 98000 triplets: 5167.856s\n",
      "Copied 99000 triplets: 5229.013s\n",
      "Copied 100000 triplets: 5286.196s\n"
     ]
    }
   ],
   "source": [
    "t0 = time()\n",
    "for i in range(N):\n",
    "    for in_name in in_names:\n",
    "        in_fn = os.path.join(in_dir, '{}{}.npy'.format(i, in_name))\n",
    "        if in_name == 'patch': in_name = 'anchor'\n",
    "        out_fn = os.path.join(out_dir, '{}{}.npy'.format(i, in_name))\n",
    "        shutil.copyfile(in_fn, out_fn)\n",
    "    if (i+1) % print_every == 0:\n",
    "        t1 = time()\n",
    "        print('Copied {} triplets: {:0.3f}s'.format(i+1, t1-t0))"
   ]
  },
  {
   "cell_type": "markdown",
   "metadata": {
    "collapsed": true
   },
   "source": [
    "## Copy tiles and labels\n",
    "We also want to provide a small set of NAIP tiles with corresponding CDL labels so that people can apply the trained model in the classification example."
   ]
  },
  {
   "cell_type": "code",
   "execution_count": 19,
   "metadata": {},
   "outputs": [],
   "source": [
    "import numpy as np"
   ]
  },
  {
   "cell_type": "code",
   "execution_count": 39,
   "metadata": {},
   "outputs": [],
   "source": [
    "in_dir = '../../pixel2vec/data/interim/naip_fresno/triplets50_100/'\n",
    "out_dir = '../data/tiles/'\n",
    "print_every = 100\n",
    "in_names = ['patch', 'neighbor', 'distant']\n",
    "label_fn = '../../pixel2vec/data/interim/naip_fresno/y80_50_100.npy'"
   ]
  },
  {
   "cell_type": "code",
   "execution_count": 65,
   "metadata": {},
   "outputs": [
    {
     "name": "stdout",
     "output_type": "stream",
     "text": [
      "Checked 100 tile triplets: 0.003s\n",
      "Checked 200 tile triplets: 0.006s\n",
      "Checked 300 tile triplets: 0.009s\n",
      "Checked 400 tile triplets: 0.012s\n",
      "Checked 500 tile triplets: 0.015s\n",
      "Checked 600 tile triplets: 0.017s\n",
      "Checked 700 tile triplets: 0.020s\n",
      "Checked 800 tile triplets: 0.022s\n",
      "Checked 900 tile triplets: 0.025s\n",
      "Checked 1000 tile triplets: 0.027s\n"
     ]
    }
   ],
   "source": [
    "# Filter out NaNs\n",
    "y = np.load(label_fn)\n",
    "t0 = time()\n",
    "copy_fns = []\n",
    "ys = []\n",
    "count = 0\n",
    "for i in range(1000):\n",
    "    for in_name in in_names:\n",
    "        in_fn = os.path.join(in_dir, '{}{}.npy'.format(i, in_name))\n",
    "        if not np.isnan(y[count]):\n",
    "            copy_fns.append(in_fn)\n",
    "            ys.append(y[count])\n",
    "        count += 1\n",
    "    if (i+1) % print_every == 0:\n",
    "        t1 = time()\n",
    "        print('Checked {} tile triplets: {:0.3f}s'.format(i+1, t1-t0))"
   ]
  },
  {
   "cell_type": "code",
   "execution_count": 66,
   "metadata": {},
   "outputs": [
    {
     "name": "stdout",
     "output_type": "stream",
     "text": [
      "2323 2323\n"
     ]
    }
   ],
   "source": [
    "print(len(copy_fns), len(ys))"
   ]
  },
  {
   "cell_type": "code",
   "execution_count": 67,
   "metadata": {},
   "outputs": [],
   "source": [
    "# Get first 1000 tiles\n",
    "copy_fns = copy_fns[:1000]\n",
    "ys = np.array(ys[:1000])"
   ]
  },
  {
   "cell_type": "code",
   "execution_count": 68,
   "metadata": {},
   "outputs": [],
   "source": [
    "# Copy tiles\n",
    "for idx, in_fn in enumerate(copy_fns):\n",
    "    out_fn = os.path.join(out_dir, '{}tile.npy'.format(idx+1))\n",
    "    shutil.copyfile(in_fn, out_fn)\n",
    "# Save labels\n",
    "np.save(os.path.join(out_dir, 'y.npy'), ys)"
   ]
  },
  {
   "cell_type": "markdown",
   "metadata": {},
   "source": [
    "## Prepare NAIP tiles for example 1\n",
    "Need to chop up large tif to provide smaller TIFs for example 1."
   ]
  },
  {
   "cell_type": "code",
   "execution_count": 1,
   "metadata": {},
   "outputs": [],
   "source": [
    "import gdal\n",
    "import numpy as np"
   ]
  },
  {
   "cell_type": "code",
   "execution_count": 2,
   "metadata": {},
   "outputs": [
    {
     "name": "stdout",
     "output_type": "stream",
     "text": [
      "(5, 9278, 9278)\n"
     ]
    }
   ],
   "source": [
    "in_fn = '../data/large_naip/naip_fresno_2016_row_0_column_0.tif'\n",
    "obj = gdal.Open(in_fn)\n",
    "img = obj.ReadAsArray().astype(np.uint8)\n",
    "print(img.shape)"
   ]
  },
  {
   "cell_type": "code",
   "execution_count": null,
   "metadata": {},
   "outputs": [],
   "source": []
  },
  {
   "cell_type": "code",
   "execution_count": null,
   "metadata": {},
   "outputs": [],
   "source": []
  },
  {
   "cell_type": "code",
   "execution_count": null,
   "metadata": {},
   "outputs": [],
   "source": []
  }
 ],
 "metadata": {
  "kernelspec": {
   "display_name": "Python 3",
   "language": "python",
   "name": "python3"
  },
  "language_info": {
   "codemirror_mode": {
    "name": "ipython",
    "version": 3
   },
   "file_extension": ".py",
   "mimetype": "text/x-python",
   "name": "python",
   "nbconvert_exporter": "python",
   "pygments_lexer": "ipython3",
   "version": "3.6.4"
  }
 },
 "nbformat": 4,
 "nbformat_minor": 2
}
